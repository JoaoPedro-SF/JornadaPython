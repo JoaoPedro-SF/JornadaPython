{
 "cells": [
  {
   "cell_type": "code",
   "execution_count": null,
   "metadata": {},
   "outputs": [],
   "source": [
    "#Passo a passo do meu projeto!\n",
    "#Passo 1: Importar a base de dados\n",
    "#Passo 2: Visualizar a base de dados\n",
    "#Passo 3: Tratamento de erros (resolver os erros da base de dados)\n",
    "#Passo 4: Análise inicial dos dados (entender como estão os cancelamentos)\n",
    "#Passo 5: Análise profunda da base de dados (encontrando a causa dos cancelamentos)"
   ]
  },
  {
   "cell_type": "code",
   "execution_count": null,
   "metadata": {},
   "outputs": [],
   "source": [
    "#Passo 1: Importar a base de dados\n",
    "#Usar ferramenta/biblioteca para importar as ferramentas!\n",
    "# pip install pandas numpy openpyxl plotly\n",
    "import pandas as pd\n",
    "\n",
    "tabela = pd.read_csv(\"cancelamentos.csv\")\n",
    "display(tabela)"
   ]
  }
 ],
 "metadata": {
  "language_info": {
   "name": "python"
  },
  "orig_nbformat": 4
 },
 "nbformat": 4,
 "nbformat_minor": 2
}
